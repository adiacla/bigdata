{
 "cells": [
  {
   "cell_type": "markdown",
   "metadata": {},
   "source": [
    " # Taller ETL en MongoDB con Python"
   ]
  },
  {
   "cell_type": "code",
   "execution_count": 61,
   "metadata": {},
   "outputs": [],
   "source": [
    "import os\n",
    "import pandas as pd\n",
    "from pymongo import MongoClient\n",
    "from dotenv import load_dotenv"
   ]
  },
  {
   "cell_type": "markdown",
   "metadata": {},
   "source": [
    "\n",
    "# Cargar variables desde .env"
   ]
  },
  {
   "cell_type": "code",
   "execution_count": 62,
   "metadata": {},
   "outputs": [],
   "source": [
    "load_dotenv(dotenv_path=\"./.env\")\n",
    "MONGO_URI = os.getenv(\"MONGO_URI\")\n",
    "DB_NAME = os.getenv(\"DB_NAME\")\n",
    "COLLECTION = os.getenv(\"COLLECTION\")"
   ]
  },
  {
   "cell_type": "markdown",
   "metadata": {},
   "source": [
    "# --- EXTRACT ---"
   ]
  },
  {
   "cell_type": "code",
   "execution_count": 63,
   "metadata": {},
   "outputs": [
    {
     "name": "stdout",
     "output_type": "stream",
     "text": [
      "Extrayendo datos de MongoDB...\n",
      "Coecciones... Collection(Database(MongoClient(host=['localhost:27017'], document_class=dict, tz_aware=False, connect=True), 'papeleria'), 'inventario')\n",
      "Registros obtenidos: 10\n"
     ]
    }
   ],
   "source": [
    "print(\"Extrayendo datos de MongoDB...\")\n",
    "client = MongoClient(MONGO_URI)\n",
    "db = client[DB_NAME]\n",
    "collection = db[COLLECTION]\n",
    "print(\"Coecciones...\",collection)\n",
    "data = list(collection.find())\n",
    "print(f\"Registros obtenidos: {len(data)}\")"
   ]
  },
  {
   "cell_type": "code",
   "execution_count": 64,
   "metadata": {},
   "outputs": [],
   "source": [
    "# Convertir a DataFrame\n",
    "df = pd.DataFrame(data)"
   ]
  },
  {
   "cell_type": "code",
   "execution_count": 65,
   "metadata": {},
   "outputs": [
    {
     "data": {
      "text/html": [
       "<div>\n",
       "<style scoped>\n",
       "    .dataframe tbody tr th:only-of-type {\n",
       "        vertical-align: middle;\n",
       "    }\n",
       "\n",
       "    .dataframe tbody tr th {\n",
       "        vertical-align: top;\n",
       "    }\n",
       "\n",
       "    .dataframe thead th {\n",
       "        text-align: right;\n",
       "    }\n",
       "</style>\n",
       "<table border=\"1\" class=\"dataframe\">\n",
       "  <thead>\n",
       "    <tr style=\"text-align: right;\">\n",
       "      <th></th>\n",
       "      <th>_id</th>\n",
       "      <th>item</th>\n",
       "      <th>qty</th>\n",
       "      <th>precio</th>\n",
       "      <th>color</th>\n",
       "      <th>tamano</th>\n",
       "      <th>stock</th>\n",
       "      <th>estado</th>\n",
       "      <th>ventas</th>\n",
       "      <th>fecha</th>\n",
       "      <th>evaCalidad</th>\n",
       "      <th>evaLogistica</th>\n",
       "      <th>localizacion</th>\n",
       "      <th>ciudad</th>\n",
       "      <th>detalle</th>\n",
       "    </tr>\n",
       "  </thead>\n",
       "  <tbody>\n",
       "    <tr>\n",
       "      <th>0</th>\n",
       "      <td>68ab8cfdf250dfd87989b03d</td>\n",
       "      <td>libro</td>\n",
       "      <td>6</td>\n",
       "      <td>12.8</td>\n",
       "      <td>[rojo, azul, verde]</td>\n",
       "      <td>[10, 12.1, 14.2]</td>\n",
       "      <td>[{'bodega': 'principal', 'ubicacion': [-77.028...</td>\n",
       "      <td>A</td>\n",
       "      <td>{'nacional': 14, 'internacional': 21, 'licenci...</td>\n",
       "      <td>2014-03-01 08:00:00.000</td>\n",
       "      <td>[10, 9, 10]</td>\n",
       "      <td>[8, 6, 8]</td>\n",
       "      <td>{'type': 'Point', 'coordinates': [-77.02824, -...</td>\n",
       "      <td>Lima</td>\n",
       "      <td>{'producto': 'libro', 'codigobar': '9780201379...</td>\n",
       "    </tr>\n",
       "    <tr>\n",
       "      <th>1</th>\n",
       "      <td>68ab8cfdf250dfd87989b03e</td>\n",
       "      <td>cuaderno</td>\n",
       "      <td>10</td>\n",
       "      <td>8.3</td>\n",
       "      <td>[blanco, verde, azul]</td>\n",
       "      <td>[10.3, 18, 12]</td>\n",
       "      <td>[{'bodega': 'sucursal', 'ubicacion': [-71.535,...</td>\n",
       "      <td>B</td>\n",
       "      <td>NaN</td>\n",
       "      <td>2014-03-01 09:00:00.000</td>\n",
       "      <td>[8, 8, 8]</td>\n",
       "      <td>[7, 7, 7]</td>\n",
       "      <td>{'type': 'Point', 'coordinates': [-75.72861, -...</td>\n",
       "      <td>Ica</td>\n",
       "      <td>{'producto': 'cuaderno', 'codigobar': '3180321...</td>\n",
       "    </tr>\n",
       "    <tr>\n",
       "      <th>2</th>\n",
       "      <td>68ab8cfdf250dfd87989b03f</td>\n",
       "      <td>hojas</td>\n",
       "      <td>30</td>\n",
       "      <td>6.2</td>\n",
       "      <td>[verde, azul]</td>\n",
       "      <td>[16, 18.4, 21]</td>\n",
       "      <td>[{'bodega': 'principal', 'ubicacion': [-77.028...</td>\n",
       "      <td>B</td>\n",
       "      <td>{'nacional': 5, 'internacional': 10, 'licencia...</td>\n",
       "      <td>2014-03-15 09:00:00.000</td>\n",
       "      <td>[4, 4, 4]</td>\n",
       "      <td>[4, 4, 4]</td>\n",
       "      <td>{'type': 'Point', 'coordinates': [-71.535, -16...</td>\n",
       "      <td>Arequipa</td>\n",
       "      <td>{'producto': 'hojas', 'codigobar': '3180321179...</td>\n",
       "    </tr>\n",
       "    <tr>\n",
       "      <th>3</th>\n",
       "      <td>68ab8cfdf250dfd87989b040</td>\n",
       "      <td>escuadra</td>\n",
       "      <td>25</td>\n",
       "      <td>3.1</td>\n",
       "      <td>[blanco]</td>\n",
       "      <td>[21.5, 14, 6]</td>\n",
       "      <td>[{'bodega': 'principal', 'ubicacion': [-77.028...</td>\n",
       "      <td>A</td>\n",
       "      <td>{'nacional': 13, 'internacional': 21, 'licenci...</td>\n",
       "      <td>2014-04-04 11:21:39.736</td>\n",
       "      <td>[10, 10, 10]</td>\n",
       "      <td>[4, 4, 4]</td>\n",
       "      <td>{'type': 'Point', 'coordinates': [-79.02998, -...</td>\n",
       "      <td>Callao</td>\n",
       "      <td>{'producto': 'escuadra', 'codigobar': '6580225...</td>\n",
       "    </tr>\n",
       "    <tr>\n",
       "      <th>4</th>\n",
       "      <td>68ab8cfdf250dfd87989b041</td>\n",
       "      <td>regla</td>\n",
       "      <td>15</td>\n",
       "      <td>10.4</td>\n",
       "      <td>[verde, azul]</td>\n",
       "      <td>[13, 14, 20.2]</td>\n",
       "      <td>[{'bodega': 'regional', 'ubicacion': [-79.0299...</td>\n",
       "      <td>C</td>\n",
       "      <td>{'nacional': 12, 'internacional': 9, 'licencia...</td>\n",
       "      <td>2014-04-04 21:23:13.331</td>\n",
       "      <td>[5, 5, 6]</td>\n",
       "      <td>[6, 6, 6]</td>\n",
       "      <td>{'type': 'Point', 'coordinates': [-79.02998, -...</td>\n",
       "      <td>Trujillo</td>\n",
       "      <td>{'producto': 'regla', 'codigobar': '2080201379...</td>\n",
       "    </tr>\n",
       "    <tr>\n",
       "      <th>5</th>\n",
       "      <td>68ab8cfdf250dfd87989b042</td>\n",
       "      <td>lapiceros</td>\n",
       "      <td>3</td>\n",
       "      <td>15</td>\n",
       "      <td>[amarillo, azul, verde]</td>\n",
       "      <td>NaN</td>\n",
       "      <td>[{'bodega': 'principal', 'ubicacion': [-77.028...</td>\n",
       "      <td>A</td>\n",
       "      <td>{'nacional': 25, 'internacional': 8, 'licencia...</td>\n",
       "      <td>2015-06-04 05:08:13.000</td>\n",
       "      <td>[8, 8, 8]</td>\n",
       "      <td>[8, 8, 8]</td>\n",
       "      <td>{'type': 'Point', 'coordinates': [-79.84088, -...</td>\n",
       "      <td>Chiclayo</td>\n",
       "      <td>{'producto': 'lapiceros', 'codigobar': '314021...</td>\n",
       "    </tr>\n",
       "    <tr>\n",
       "      <th>6</th>\n",
       "      <td>68ab8cfdf250dfd87989b043</td>\n",
       "      <td>portalapices</td>\n",
       "      <td>21</td>\n",
       "      <td>20</td>\n",
       "      <td>[blanco, amarillo, azul]</td>\n",
       "      <td>[32, 13, 10]</td>\n",
       "      <td>[{'bodega': 'sucursal', 'ubicacion': [-71.535,...</td>\n",
       "      <td>B</td>\n",
       "      <td>NaN</td>\n",
       "      <td>2015-09-10 08:43:00.000</td>\n",
       "      <td>[10, 10, 10]</td>\n",
       "      <td>[10, 10, 10]</td>\n",
       "      <td>{'type': 'Point', 'coordinates': [-73.25383, -...</td>\n",
       "      <td>Iquitos</td>\n",
       "      <td>{'producto': 'portalapices', 'codigobar': '322...</td>\n",
       "    </tr>\n",
       "    <tr>\n",
       "      <th>7</th>\n",
       "      <td>68ab8cfdf250dfd87989b044</td>\n",
       "      <td>portatil</td>\n",
       "      <td>12</td>\n",
       "      <td>14.5</td>\n",
       "      <td>[negro, azul]</td>\n",
       "      <td>[25, 20, 66.8]</td>\n",
       "      <td>[{'bodega': 'principal', 'ubicacion': [-77.028...</td>\n",
       "      <td>B</td>\n",
       "      <td>{'nacional': 8, 'internacional': 7, 'licencia'...</td>\n",
       "      <td>2016-02-06 20:20:13.000</td>\n",
       "      <td>[10, 8, 8]</td>\n",
       "      <td>[4, 4, 4]</td>\n",
       "      <td>{'type': 'Point', 'coordinates': [-80.63282, -...</td>\n",
       "      <td>Piura</td>\n",
       "      <td>{'producto': 'portatil', 'codigobar': '9782512...</td>\n",
       "    </tr>\n",
       "    <tr>\n",
       "      <th>8</th>\n",
       "      <td>68ab8cfdf250dfd87989b045</td>\n",
       "      <td>impresora</td>\n",
       "      <td>16</td>\n",
       "      <td>2.3</td>\n",
       "      <td>[blanco]</td>\n",
       "      <td>[12.7, 14.6, 16]</td>\n",
       "      <td>[{'bodega': 'principal', 'ubicacion': [-77.028...</td>\n",
       "      <td>A</td>\n",
       "      <td>{'nacional': 9, 'internacional': 10, 'licencia...</td>\n",
       "      <td>2015-06-04 05:08:13.000</td>\n",
       "      <td>[6, 8, 8]</td>\n",
       "      <td>[9, 9, 9]</td>\n",
       "      <td>{'type': 'Point', 'coordinates': [-71.96734, -...</td>\n",
       "      <td>Cusco</td>\n",
       "      <td>{'producto': 'impresora', 'codigobar': '314021...</td>\n",
       "    </tr>\n",
       "    <tr>\n",
       "      <th>9</th>\n",
       "      <td>68ab8cfdf250dfd87989b046</td>\n",
       "      <td>tarjetas</td>\n",
       "      <td>40</td>\n",
       "      <td>4.1</td>\n",
       "      <td>[gris]</td>\n",
       "      <td>[5.1, 7.2, 2]</td>\n",
       "      <td>[{'bodega': 'regional', 'ubicacion': [-79.0299...</td>\n",
       "      <td>C</td>\n",
       "      <td>{'nacional': 7, 'internacional': 18, 'licencia...</td>\n",
       "      <td>2015-06-04 05:08:13.000</td>\n",
       "      <td>[6, 9, 6]</td>\n",
       "      <td>[8, 8, 8]</td>\n",
       "      <td>{'type': 'Point', 'coordinates': [-74.22321, -...</td>\n",
       "      <td>Ayacucho</td>\n",
       "      <td>{'producto': 'tarjetas', 'codigobar': '8180603...</td>\n",
       "    </tr>\n",
       "  </tbody>\n",
       "</table>\n",
       "</div>"
      ],
      "text/plain": [
       "                        _id          item  qty precio  \\\n",
       "0  68ab8cfdf250dfd87989b03d         libro    6   12.8   \n",
       "1  68ab8cfdf250dfd87989b03e      cuaderno   10    8.3   \n",
       "2  68ab8cfdf250dfd87989b03f         hojas   30    6.2   \n",
       "3  68ab8cfdf250dfd87989b040      escuadra   25    3.1   \n",
       "4  68ab8cfdf250dfd87989b041         regla   15   10.4   \n",
       "5  68ab8cfdf250dfd87989b042     lapiceros    3     15   \n",
       "6  68ab8cfdf250dfd87989b043  portalapices   21     20   \n",
       "7  68ab8cfdf250dfd87989b044      portatil   12   14.5   \n",
       "8  68ab8cfdf250dfd87989b045     impresora   16    2.3   \n",
       "9  68ab8cfdf250dfd87989b046      tarjetas   40    4.1   \n",
       "\n",
       "                      color            tamano  \\\n",
       "0       [rojo, azul, verde]  [10, 12.1, 14.2]   \n",
       "1     [blanco, verde, azul]    [10.3, 18, 12]   \n",
       "2             [verde, azul]    [16, 18.4, 21]   \n",
       "3                  [blanco]     [21.5, 14, 6]   \n",
       "4             [verde, azul]    [13, 14, 20.2]   \n",
       "5   [amarillo, azul, verde]               NaN   \n",
       "6  [blanco, amarillo, azul]      [32, 13, 10]   \n",
       "7             [negro, azul]    [25, 20, 66.8]   \n",
       "8                  [blanco]  [12.7, 14.6, 16]   \n",
       "9                    [gris]     [5.1, 7.2, 2]   \n",
       "\n",
       "                                               stock estado  \\\n",
       "0  [{'bodega': 'principal', 'ubicacion': [-77.028...      A   \n",
       "1  [{'bodega': 'sucursal', 'ubicacion': [-71.535,...      B   \n",
       "2  [{'bodega': 'principal', 'ubicacion': [-77.028...      B   \n",
       "3  [{'bodega': 'principal', 'ubicacion': [-77.028...      A   \n",
       "4  [{'bodega': 'regional', 'ubicacion': [-79.0299...      C   \n",
       "5  [{'bodega': 'principal', 'ubicacion': [-77.028...      A   \n",
       "6  [{'bodega': 'sucursal', 'ubicacion': [-71.535,...      B   \n",
       "7  [{'bodega': 'principal', 'ubicacion': [-77.028...      B   \n",
       "8  [{'bodega': 'principal', 'ubicacion': [-77.028...      A   \n",
       "9  [{'bodega': 'regional', 'ubicacion': [-79.0299...      C   \n",
       "\n",
       "                                              ventas                   fecha  \\\n",
       "0  {'nacional': 14, 'internacional': 21, 'licenci... 2014-03-01 08:00:00.000   \n",
       "1                                                NaN 2014-03-01 09:00:00.000   \n",
       "2  {'nacional': 5, 'internacional': 10, 'licencia... 2014-03-15 09:00:00.000   \n",
       "3  {'nacional': 13, 'internacional': 21, 'licenci... 2014-04-04 11:21:39.736   \n",
       "4  {'nacional': 12, 'internacional': 9, 'licencia... 2014-04-04 21:23:13.331   \n",
       "5  {'nacional': 25, 'internacional': 8, 'licencia... 2015-06-04 05:08:13.000   \n",
       "6                                                NaN 2015-09-10 08:43:00.000   \n",
       "7  {'nacional': 8, 'internacional': 7, 'licencia'... 2016-02-06 20:20:13.000   \n",
       "8  {'nacional': 9, 'internacional': 10, 'licencia... 2015-06-04 05:08:13.000   \n",
       "9  {'nacional': 7, 'internacional': 18, 'licencia... 2015-06-04 05:08:13.000   \n",
       "\n",
       "     evaCalidad  evaLogistica  \\\n",
       "0   [10, 9, 10]     [8, 6, 8]   \n",
       "1     [8, 8, 8]     [7, 7, 7]   \n",
       "2     [4, 4, 4]     [4, 4, 4]   \n",
       "3  [10, 10, 10]     [4, 4, 4]   \n",
       "4     [5, 5, 6]     [6, 6, 6]   \n",
       "5     [8, 8, 8]     [8, 8, 8]   \n",
       "6  [10, 10, 10]  [10, 10, 10]   \n",
       "7    [10, 8, 8]     [4, 4, 4]   \n",
       "8     [6, 8, 8]     [9, 9, 9]   \n",
       "9     [6, 9, 6]     [8, 8, 8]   \n",
       "\n",
       "                                        localizacion    ciudad  \\\n",
       "0  {'type': 'Point', 'coordinates': [-77.02824, -...      Lima   \n",
       "1  {'type': 'Point', 'coordinates': [-75.72861, -...       Ica   \n",
       "2  {'type': 'Point', 'coordinates': [-71.535, -16...  Arequipa   \n",
       "3  {'type': 'Point', 'coordinates': [-79.02998, -...    Callao   \n",
       "4  {'type': 'Point', 'coordinates': [-79.02998, -...  Trujillo   \n",
       "5  {'type': 'Point', 'coordinates': [-79.84088, -...  Chiclayo   \n",
       "6  {'type': 'Point', 'coordinates': [-73.25383, -...   Iquitos   \n",
       "7  {'type': 'Point', 'coordinates': [-80.63282, -...     Piura   \n",
       "8  {'type': 'Point', 'coordinates': [-71.96734, -...     Cusco   \n",
       "9  {'type': 'Point', 'coordinates': [-74.22321, -...  Ayacucho   \n",
       "\n",
       "                                             detalle  \n",
       "0  {'producto': 'libro', 'codigobar': '9780201379...  \n",
       "1  {'producto': 'cuaderno', 'codigobar': '3180321...  \n",
       "2  {'producto': 'hojas', 'codigobar': '3180321179...  \n",
       "3  {'producto': 'escuadra', 'codigobar': '6580225...  \n",
       "4  {'producto': 'regla', 'codigobar': '2080201379...  \n",
       "5  {'producto': 'lapiceros', 'codigobar': '314021...  \n",
       "6  {'producto': 'portalapices', 'codigobar': '322...  \n",
       "7  {'producto': 'portatil', 'codigobar': '9782512...  \n",
       "8  {'producto': 'impresora', 'codigobar': '314021...  \n",
       "9  {'producto': 'tarjetas', 'codigobar': '8180603...  "
      ]
     },
     "execution_count": 65,
     "metadata": {},
     "output_type": "execute_result"
    }
   ],
   "source": [
    "df"
   ]
  },
  {
   "cell_type": "markdown",
   "metadata": {},
   "source": [
    "# --- TRANSFORM ---"
   ]
  },
  {
   "cell_type": "code",
   "execution_count": 66,
   "metadata": {},
   "outputs": [
    {
     "name": "stdout",
     "output_type": "stream",
     "text": [
      " Transformando datos...\n"
     ]
    }
   ],
   "source": [
    "print(\" Transformando datos...\")"
   ]
  },
  {
   "cell_type": "code",
   "execution_count": 67,
   "metadata": {},
   "outputs": [
    {
     "name": "stdout",
     "output_type": "stream",
     "text": [
      "<class 'pandas.core.frame.DataFrame'>\n",
      "RangeIndex: 10 entries, 0 to 9\n",
      "Data columns (total 15 columns):\n",
      " #   Column        Non-Null Count  Dtype         \n",
      "---  ------        --------------  -----         \n",
      " 0   _id           10 non-null     object        \n",
      " 1   item          10 non-null     object        \n",
      " 2   qty           10 non-null     int64         \n",
      " 3   precio        10 non-null     object        \n",
      " 4   color         10 non-null     object        \n",
      " 5   tamano        9 non-null      object        \n",
      " 6   stock         10 non-null     object        \n",
      " 7   estado        10 non-null     object        \n",
      " 8   ventas        8 non-null      object        \n",
      " 9   fecha         10 non-null     datetime64[ns]\n",
      " 10  evaCalidad    10 non-null     object        \n",
      " 11  evaLogistica  10 non-null     object        \n",
      " 12  localizacion  10 non-null     object        \n",
      " 13  ciudad        10 non-null     object        \n",
      " 14  detalle       10 non-null     object        \n",
      "dtypes: datetime64[ns](1), int64(1), object(13)\n",
      "memory usage: 1.3+ KB\n",
      "None\n"
     ]
    }
   ],
   "source": [
    "print(df.info())"
   ]
  },
  {
   "cell_type": "markdown",
   "metadata": {},
   "source": [
    "#  Resumen por ciudad:"
   ]
  },
  {
   "cell_type": "code",
   "execution_count": 68,
   "metadata": {},
   "outputs": [
    {
     "name": "stdout",
     "output_type": "stream",
     "text": [
      "ciudad\n",
      "Arequipa    30\n",
      "Ayacucho    40\n",
      "Callao      25\n",
      "Chiclayo     3\n",
      "Cusco       16\n",
      "Ica         10\n",
      "Iquitos     21\n",
      "Lima         6\n",
      "Piura       12\n",
      "Trujillo    15\n",
      "Name: qty, dtype: int64\n"
     ]
    }
   ],
   "source": [
    "print(df.groupby(\"ciudad\")[\"qty\"].sum())"
   ]
  },
  {
   "cell_type": "markdown",
   "metadata": {},
   "source": [
    "\n",
    "# Ventas promedio por unidad (precio * qty):"
   ]
  },
  {
   "cell_type": "code",
   "execution_count": 69,
   "metadata": {},
   "outputs": [
    {
     "data": {
      "text/plain": [
       "0    12.8\n",
       "1     8.3\n",
       "2     6.2\n",
       "3     3.1\n",
       "4    10.4\n",
       "5      15\n",
       "6      20\n",
       "7    14.5\n",
       "8     2.3\n",
       "9     4.1\n",
       "Name: precio, dtype: object"
      ]
     },
     "execution_count": 69,
     "metadata": {},
     "output_type": "execute_result"
    }
   ],
   "source": [
    "df[\"precio\"]"
   ]
  },
  {
   "cell_type": "markdown",
   "metadata": {},
   "source": [
    "En Mongo Decimal128 es un tipo específico que MongoDB usa para representar números decimales.\n",
    "\n",
    "Esta línea convierte solo los valores que son instancias de Decimal a float. Si el valor no es un Decimal, se deja tal como está."
   ]
  },
  {
   "cell_type": "code",
   "execution_count": 70,
   "metadata": {},
   "outputs": [],
   "source": [
    "from bson.decimal128 import Decimal128\n",
    "\n",
    "# Asegúrate de convertir Decimal128 \n",
    "# Convierte Decimal128 a float\n",
    "df[\"precio\"] = df[\"precio\"].apply(lambda x: float(x.to_decimal()) if isinstance(x, Decimal128) else float(x))\n",
    "\n"
   ]
  },
  {
   "cell_type": "code",
   "execution_count": 71,
   "metadata": {},
   "outputs": [
    {
     "data": {
      "text/plain": [
       "0    12.8\n",
       "1     8.3\n",
       "2     6.2\n",
       "3     3.1\n",
       "4    10.4\n",
       "5    15.0\n",
       "6    20.0\n",
       "7    14.5\n",
       "8     2.3\n",
       "9     4.1\n",
       "Name: precio, dtype: float64"
      ]
     },
     "execution_count": 71,
     "metadata": {},
     "output_type": "execute_result"
    }
   ],
   "source": [
    "df[\"precio\"]"
   ]
  },
  {
   "cell_type": "code",
   "execution_count": 72,
   "metadata": {},
   "outputs": [
    {
     "name": "stdout",
     "output_type": "stream",
     "text": [
      "           item  venta_total\n",
      "0         libro         76.8\n",
      "1      cuaderno         83.0\n",
      "2         hojas        186.0\n",
      "3      escuadra         77.5\n",
      "4         regla        156.0\n",
      "5     lapiceros         45.0\n",
      "6  portalapices        420.0\n",
      "7      portatil        174.0\n",
      "8     impresora         36.8\n",
      "9      tarjetas        164.0\n"
     ]
    }
   ],
   "source": [
    "# Asegurarnos de que 'precio' y 'qty' sean numéricos\n",
    "# Calcular la venta total\n",
    "df[\"venta_total\"] = df[\"precio\"] * df[\"qty\"].astype(float)\n",
    "\n",
    "# Mostrar solo las columnas relevantes\n",
    "print(df[[\"item\", \"venta_total\"]])\n"
   ]
  },
  {
   "cell_type": "markdown",
   "metadata": {},
   "source": [
    "# Resumen por ciudad"
   ]
  },
  {
   "cell_type": "code",
   "execution_count": 73,
   "metadata": {},
   "outputs": [
    {
     "name": "stdout",
     "output_type": "stream",
     "text": [
      "ciudad\n",
      "Arequipa    186.0\n",
      "Ayacucho    164.0\n",
      "Callao       77.5\n",
      "Chiclayo     45.0\n",
      "Cusco        36.8\n",
      "Ica          83.0\n",
      "Iquitos     420.0\n",
      "Lima         76.8\n",
      "Piura       174.0\n",
      "Trujillo    156.0\n",
      "Name: venta_total, dtype: float64\n"
     ]
    }
   ],
   "source": [
    "print(df.groupby(\"ciudad\")[\"venta_total\"].sum())"
   ]
  },
  {
   "cell_type": "markdown",
   "metadata": {},
   "source": [
    "# Filtrar productos con ventas internacionales:"
   ]
  },
  {
   "cell_type": "code",
   "execution_count": 74,
   "metadata": {},
   "outputs": [
    {
     "name": "stdout",
     "output_type": "stream",
     "text": [
      "           item  ventas_internacional\n",
      "0         libro                  21.0\n",
      "1      cuaderno                   NaN\n",
      "2         hojas                  10.0\n",
      "3      escuadra                  21.0\n",
      "4         regla                   9.0\n",
      "5     lapiceros                   8.0\n",
      "6  portalapices                   NaN\n",
      "7      portatil                   7.0\n",
      "8     impresora                  10.0\n",
      "9      tarjetas                  18.0\n"
     ]
    }
   ],
   "source": [
    "df[\"ventas_internacional\"] = df[\"ventas\"].apply(lambda x: x.get(\"internacional\") if isinstance(x, dict) else None)\n",
    "print(df[[\"item\", \"ventas_internacional\"]])"
   ]
  },
  {
   "cell_type": "markdown",
   "metadata": {},
   "source": [
    "# Transformaciones útiles\n",
    "# Expandir las bodegas (stock):"
   ]
  },
  {
   "cell_type": "code",
   "execution_count": 75,
   "metadata": {},
   "outputs": [
    {
     "data": {
      "text/html": [
       "<div>\n",
       "<style scoped>\n",
       "    .dataframe tbody tr th:only-of-type {\n",
       "        vertical-align: middle;\n",
       "    }\n",
       "\n",
       "    .dataframe tbody tr th {\n",
       "        vertical-align: top;\n",
       "    }\n",
       "\n",
       "    .dataframe thead th {\n",
       "        text-align: right;\n",
       "    }\n",
       "</style>\n",
       "<table border=\"1\" class=\"dataframe\">\n",
       "  <thead>\n",
       "    <tr style=\"text-align: right;\">\n",
       "      <th></th>\n",
       "      <th>_id</th>\n",
       "      <th>item</th>\n",
       "      <th>qty</th>\n",
       "      <th>precio</th>\n",
       "      <th>color</th>\n",
       "      <th>tamano</th>\n",
       "      <th>estado</th>\n",
       "      <th>ventas</th>\n",
       "      <th>fecha</th>\n",
       "      <th>evaCalidad</th>\n",
       "      <th>evaLogistica</th>\n",
       "      <th>localizacion</th>\n",
       "      <th>ciudad</th>\n",
       "      <th>detalle</th>\n",
       "      <th>venta_total</th>\n",
       "      <th>ventas_internacional</th>\n",
       "      <th>bodega</th>\n",
       "      <th>cantidad</th>\n",
       "    </tr>\n",
       "  </thead>\n",
       "  <tbody>\n",
       "    <tr>\n",
       "      <th>0</th>\n",
       "      <td>68ab8cfdf250dfd87989b03d</td>\n",
       "      <td>libro</td>\n",
       "      <td>6</td>\n",
       "      <td>12.8</td>\n",
       "      <td>[rojo, azul, verde]</td>\n",
       "      <td>[10, 12.1, 14.2]</td>\n",
       "      <td>A</td>\n",
       "      <td>{'nacional': 14, 'internacional': 21, 'licenci...</td>\n",
       "      <td>2014-03-01 08:00:00</td>\n",
       "      <td>[10, 9, 10]</td>\n",
       "      <td>[8, 6, 8]</td>\n",
       "      <td>{'type': 'Point', 'coordinates': [-77.02824, -...</td>\n",
       "      <td>Lima</td>\n",
       "      <td>{'producto': 'libro', 'codigobar': '9780201379...</td>\n",
       "      <td>76.8</td>\n",
       "      <td>21.0</td>\n",
       "      <td>principal</td>\n",
       "      <td>5</td>\n",
       "    </tr>\n",
       "    <tr>\n",
       "      <th>0</th>\n",
       "      <td>68ab8cfdf250dfd87989b03d</td>\n",
       "      <td>libro</td>\n",
       "      <td>6</td>\n",
       "      <td>12.8</td>\n",
       "      <td>[rojo, azul, verde]</td>\n",
       "      <td>[10, 12.1, 14.2]</td>\n",
       "      <td>A</td>\n",
       "      <td>{'nacional': 14, 'internacional': 21, 'licenci...</td>\n",
       "      <td>2014-03-01 08:00:00</td>\n",
       "      <td>[10, 9, 10]</td>\n",
       "      <td>[8, 6, 8]</td>\n",
       "      <td>{'type': 'Point', 'coordinates': [-77.02824, -...</td>\n",
       "      <td>Lima</td>\n",
       "      <td>{'producto': 'libro', 'codigobar': '9780201379...</td>\n",
       "      <td>76.8</td>\n",
       "      <td>21.0</td>\n",
       "      <td>sucursal</td>\n",
       "      <td>15</td>\n",
       "    </tr>\n",
       "    <tr>\n",
       "      <th>1</th>\n",
       "      <td>68ab8cfdf250dfd87989b03e</td>\n",
       "      <td>cuaderno</td>\n",
       "      <td>10</td>\n",
       "      <td>8.3</td>\n",
       "      <td>[blanco, verde, azul]</td>\n",
       "      <td>[10.3, 18, 12]</td>\n",
       "      <td>B</td>\n",
       "      <td>NaN</td>\n",
       "      <td>2014-03-01 09:00:00</td>\n",
       "      <td>[8, 8, 8]</td>\n",
       "      <td>[7, 7, 7]</td>\n",
       "      <td>{'type': 'Point', 'coordinates': [-75.72861, -...</td>\n",
       "      <td>Ica</td>\n",
       "      <td>{'producto': 'cuaderno', 'codigobar': '3180321...</td>\n",
       "      <td>83.0</td>\n",
       "      <td>NaN</td>\n",
       "      <td>sucursal</td>\n",
       "      <td>5</td>\n",
       "    </tr>\n",
       "    <tr>\n",
       "      <th>2</th>\n",
       "      <td>68ab8cfdf250dfd87989b03f</td>\n",
       "      <td>hojas</td>\n",
       "      <td>30</td>\n",
       "      <td>6.2</td>\n",
       "      <td>[verde, azul]</td>\n",
       "      <td>[16, 18.4, 21]</td>\n",
       "      <td>B</td>\n",
       "      <td>{'nacional': 5, 'internacional': 10, 'licencia...</td>\n",
       "      <td>2014-03-15 09:00:00</td>\n",
       "      <td>[4, 4, 4]</td>\n",
       "      <td>[4, 4, 4]</td>\n",
       "      <td>{'type': 'Point', 'coordinates': [-71.535, -16...</td>\n",
       "      <td>Arequipa</td>\n",
       "      <td>{'producto': 'hojas', 'codigobar': '3180321179...</td>\n",
       "      <td>186.0</td>\n",
       "      <td>10.0</td>\n",
       "      <td>principal</td>\n",
       "      <td>60</td>\n",
       "    </tr>\n",
       "    <tr>\n",
       "      <th>2</th>\n",
       "      <td>68ab8cfdf250dfd87989b03f</td>\n",
       "      <td>hojas</td>\n",
       "      <td>30</td>\n",
       "      <td>6.2</td>\n",
       "      <td>[verde, azul]</td>\n",
       "      <td>[16, 18.4, 21]</td>\n",
       "      <td>B</td>\n",
       "      <td>{'nacional': 5, 'internacional': 10, 'licencia...</td>\n",
       "      <td>2014-03-15 09:00:00</td>\n",
       "      <td>[4, 4, 4]</td>\n",
       "      <td>[4, 4, 4]</td>\n",
       "      <td>{'type': 'Point', 'coordinates': [-71.535, -16...</td>\n",
       "      <td>Arequipa</td>\n",
       "      <td>{'producto': 'hojas', 'codigobar': '3180321179...</td>\n",
       "      <td>186.0</td>\n",
       "      <td>10.0</td>\n",
       "      <td>regional</td>\n",
       "      <td>15</td>\n",
       "    </tr>\n",
       "  </tbody>\n",
       "</table>\n",
       "</div>"
      ],
      "text/plain": [
       "                        _id      item  qty  precio                  color  \\\n",
       "0  68ab8cfdf250dfd87989b03d     libro    6    12.8    [rojo, azul, verde]   \n",
       "0  68ab8cfdf250dfd87989b03d     libro    6    12.8    [rojo, azul, verde]   \n",
       "1  68ab8cfdf250dfd87989b03e  cuaderno   10     8.3  [blanco, verde, azul]   \n",
       "2  68ab8cfdf250dfd87989b03f     hojas   30     6.2          [verde, azul]   \n",
       "2  68ab8cfdf250dfd87989b03f     hojas   30     6.2          [verde, azul]   \n",
       "\n",
       "             tamano estado                                             ventas  \\\n",
       "0  [10, 12.1, 14.2]      A  {'nacional': 14, 'internacional': 21, 'licenci...   \n",
       "0  [10, 12.1, 14.2]      A  {'nacional': 14, 'internacional': 21, 'licenci...   \n",
       "1    [10.3, 18, 12]      B                                                NaN   \n",
       "2    [16, 18.4, 21]      B  {'nacional': 5, 'internacional': 10, 'licencia...   \n",
       "2    [16, 18.4, 21]      B  {'nacional': 5, 'internacional': 10, 'licencia...   \n",
       "\n",
       "                fecha   evaCalidad evaLogistica  \\\n",
       "0 2014-03-01 08:00:00  [10, 9, 10]    [8, 6, 8]   \n",
       "0 2014-03-01 08:00:00  [10, 9, 10]    [8, 6, 8]   \n",
       "1 2014-03-01 09:00:00    [8, 8, 8]    [7, 7, 7]   \n",
       "2 2014-03-15 09:00:00    [4, 4, 4]    [4, 4, 4]   \n",
       "2 2014-03-15 09:00:00    [4, 4, 4]    [4, 4, 4]   \n",
       "\n",
       "                                        localizacion    ciudad  \\\n",
       "0  {'type': 'Point', 'coordinates': [-77.02824, -...      Lima   \n",
       "0  {'type': 'Point', 'coordinates': [-77.02824, -...      Lima   \n",
       "1  {'type': 'Point', 'coordinates': [-75.72861, -...       Ica   \n",
       "2  {'type': 'Point', 'coordinates': [-71.535, -16...  Arequipa   \n",
       "2  {'type': 'Point', 'coordinates': [-71.535, -16...  Arequipa   \n",
       "\n",
       "                                             detalle  venta_total  \\\n",
       "0  {'producto': 'libro', 'codigobar': '9780201379...         76.8   \n",
       "0  {'producto': 'libro', 'codigobar': '9780201379...         76.8   \n",
       "1  {'producto': 'cuaderno', 'codigobar': '3180321...         83.0   \n",
       "2  {'producto': 'hojas', 'codigobar': '3180321179...        186.0   \n",
       "2  {'producto': 'hojas', 'codigobar': '3180321179...        186.0   \n",
       "\n",
       "   ventas_internacional     bodega  cantidad  \n",
       "0                  21.0  principal         5  \n",
       "0                  21.0   sucursal        15  \n",
       "1                   NaN   sucursal         5  \n",
       "2                  10.0  principal        60  \n",
       "2                  10.0   regional        15  "
      ]
     },
     "execution_count": 75,
     "metadata": {},
     "output_type": "execute_result"
    }
   ],
   "source": [
    "stock_df = df.explode(\"stock\")\n",
    "stock_df[\"bodega\"] = stock_df[\"stock\"].apply(lambda x: x[\"bodega\"] if isinstance(x, dict) else None)\n",
    "stock_df[\"cantidad\"] = stock_df[\"stock\"].apply(lambda x: x[\"cantidad\"] if isinstance(x, dict) else None)\n",
    "stock_df = stock_df.drop(columns=[\"stock\"])\n",
    "stock_df.head()"
   ]
  },
  {
   "cell_type": "markdown",
   "metadata": {},
   "source": [
    "#Expandir calificaciones y sacar promedios:"
   ]
  },
  {
   "cell_type": "code",
   "execution_count": 76,
   "metadata": {},
   "outputs": [
    {
     "name": "stdout",
     "output_type": "stream",
     "text": [
      "Index(['_id', 'item', 'qty', 'precio', 'color', 'tamano', 'stock', 'estado',\n",
      "       'ventas', 'fecha', 'evaCalidad', 'evaLogistica', 'localizacion',\n",
      "       'ciudad', 'detalle', 'venta_total', 'ventas_internacional'],\n",
      "      dtype='object')\n"
     ]
    }
   ],
   "source": [
    "print(df.columns)\n"
   ]
  },
  {
   "cell_type": "code",
   "execution_count": 77,
   "metadata": {},
   "outputs": [
    {
     "name": "stdout",
     "output_type": "stream",
     "text": [
      "ciudad\n",
      "Arequipa    186.0\n",
      "Ayacucho    164.0\n",
      "Callao       77.5\n",
      "Chiclayo     45.0\n",
      "Cusco        36.8\n",
      "Ica          83.0\n",
      "Iquitos     420.0\n",
      "Lima         76.8\n",
      "Piura       174.0\n",
      "Trujillo    156.0\n",
      "Name: venta_total, dtype: float64\n",
      "estado\n",
      "A    60.0\n",
      "B    17.0\n",
      "C    27.0\n",
      "Name: ventas_internacional, dtype: float64\n",
      "           item  venta_total\n",
      "6  portalapices        420.0\n",
      "2         hojas        186.0\n",
      "7      portatil        174.0\n"
     ]
    }
   ],
   "source": [
    "venta_por_ciudad = df.groupby(\"ciudad\")[\"venta_total\"].sum()\n",
    "# Agrupar por ciudad y calcular venta total promedio\n",
    "print(df.groupby(\"ciudad\")[\"venta_total\"].mean())\n",
    "\n",
    "# Agrupar por estado y sumar ventas internacionales\n",
    "print(df.groupby(\"estado\")[\"ventas_internacional\"].sum())\n",
    "\n",
    "# Top 3 productos por venta_total\n",
    "print(df[[\"item\", \"venta_total\"]].sort_values(by=\"venta_total\", ascending=False).head(3))"
   ]
  },
  {
   "cell_type": "code",
   "execution_count": 78,
   "metadata": {},
   "outputs": [],
   "source": [
    "import numpy as np\n",
    "\n",
    "df[\"prom_calidad\"] = df[\"evaCalidad\"].apply(lambda x: np.mean(x) if isinstance(x, (list, np.ndarray)) else None)\n",
    "df[\"prom_logistica\"] = df[\"evaLogistica\"].apply(lambda x: np.mean(x) if isinstance(x, (list, np.ndarray)) else None)\n"
   ]
  },
  {
   "cell_type": "code",
   "execution_count": 79,
   "metadata": {},
   "outputs": [
    {
     "data": {
      "image/png": "[encoded data removed]",
      "text/plain": [
       "<Figure size 800x500 with 1 Axes>"
      ]
     },
     "metadata": {},
     "output_type": "display_data"
    },
    {
     "data": {
      "image/png": "[encoded data removed]",
      "text/plain": [
       "<Figure size 800x500 with 1 Axes>"
      ]
     },
     "metadata": {},
     "output_type": "display_data"
    }
   ],
   "source": [
    "import matplotlib.pyplot as plt\n",
    "import seaborn as sns\n",
    "\n",
    "# Venta total por ciudad\n",
    "plt.figure(figsize=(8, 5))\n",
    "sns.barplot(x=\"ciudad\", y=\"venta_total\", data=df, estimator=sum)\n",
    "plt.title(\"Venta Total por Ciudad\")\n",
    "plt.ylabel(\"Venta Total\")\n",
    "plt.xlabel(\"Ciudad\")\n",
    "plt.xticks(rotation=45)\n",
    "plt.tight_layout()\n",
    "plt.show()\n",
    "\n",
    "# Promedios de evaluación\n",
    "plt.figure(figsize=(8, 5))\n",
    "df[[\"prom_calidad\", \"prom_logistica\"]].mean().plot(kind=\"bar\", color=[\"skyblue\", \"lightgreen\"])\n",
    "plt.title(\"Promedio de Evaluaciones\")\n",
    "plt.ylabel(\"Puntaje Promedio\")\n",
    "plt.xticks(rotation=0)\n",
    "plt.tight_layout()\n",
    "plt.show()"
   ]
  },
  {
   "cell_type": "markdown",
   "metadata": {},
   "source": [
    "#ETL a CSV"
   ]
  },
  {
   "cell_type": "code",
   "execution_count": 80,
   "metadata": {},
   "outputs": [
    {
     "name": "stdout",
     "output_type": "stream",
     "text": [
      "Datos transformados y guardados en output.csv\n"
     ]
    }
   ],
   "source": [
    "output_file = \"output.csv\"\n",
    "df.to_csv(output_file, index=False)\n",
    "print(f\"Datos transformados y guardados en {output_file}\")"
   ]
  },
  {
   "cell_type": "markdown",
   "metadata": {},
   "source": [
    "# --- LOAD ---"
   ]
  },
  {
   "cell_type": "code",
   "execution_count": 81,
   "metadata": {},
   "outputs": [
    {
     "name": "stdout",
     "output_type": "stream",
     "text": [
      "Cargando datos a MongoDB...\n"
     ]
    }
   ],
   "source": [
    "print(\"Cargando datos a MongoDB...\")"
   ]
  },
  {
   "cell_type": "code",
   "execution_count": 82,
   "metadata": {},
   "outputs": [
    {
     "name": "stdout",
     "output_type": "stream",
     "text": [
      "     ciudad  ventas\n",
      "0  Arequipa   186.0\n",
      "1  Ayacucho   164.0\n",
      "2    Callao    77.5\n",
      "3  Chiclayo    45.0\n",
      "4     Cusco    36.8\n",
      "5       Ica    83.0\n",
      "6   Iquitos   420.0\n",
      "7      Lima    76.8\n",
      "8     Piura   174.0\n",
      "9  Trujillo   156.0\n"
     ]
    }
   ],
   "source": [
    "# Si es una Serie, conviértela a DataFrame y renombra columnas\n",
    "venta_por_ciudad = venta_por_ciudad.reset_index()\n",
    "venta_por_ciudad.columns = [\"ciudad\", \"ventas\"]\n",
    "\n",
    "print(venta_por_ciudad)\n"
   ]
  },
  {
   "cell_type": "code",
   "execution_count": 83,
   "metadata": {},
   "outputs": [
    {
     "name": "stdout",
     "output_type": "stream",
     "text": [
      "[{'ciudad': 'Arequipa', 'ventas': 186.0}, {'ciudad': 'Ayacucho', 'ventas': 164.0}, {'ciudad': 'Callao', 'ventas': 77.5}, {'ciudad': 'Chiclayo', 'ventas': 45.0}, {'ciudad': 'Cusco', 'ventas': 36.8}, {'ciudad': 'Ica', 'ventas': 83.0}, {'ciudad': 'Iquitos', 'ventas': 420.0}, {'ciudad': 'Lima', 'ventas': 76.80000000000001}, {'ciudad': 'Piura', 'ventas': 174.0}, {'ciudad': 'Trujillo', 'ventas': 156.0}]\n"
     ]
    }
   ],
   "source": [
    "records = venta_por_ciudad.to_dict(\"records\")\n",
    "print(records)"
   ]
  },
  {
   "cell_type": "code",
   "execution_count": 84,
   "metadata": {},
   "outputs": [
    {
     "name": "stdout",
     "output_type": "stream",
     "text": [
      "Datos cargados en la colección venta_por_ciudad\n",
      "Proceso ETL completo.\n"
     ]
    }
   ],
   "source": [
    "# Cargar datos transformados a MongoDB\n",
    "output_collection = db[\"venta_por_ciudad\"]\n",
    "output_collection.insert_many(records)\n",
    "print(f\"Datos cargados en la colección {output_collection.name}\")\n",
    "print(\"Proceso ETL completo.\")"
   ]
  },
  {
   "cell_type": "code",
   "execution_count": 85,
   "metadata": {},
   "outputs": [],
   "source": [
    "# Cerrar conexión\n",
    "client.close()"
   ]
  }
 ],
 "metadata": {
  "kernelspec": {
   "display_name": ".venv",
   "language": "python",
   "name": "python3"
  },
  "language_info": {
   "codemirror_mode": {
    "name": "ipython",
    "version": 3
   },
   "file_extension": ".py",
   "mimetype": "text/x-python",
   "name": "python",
   "nbconvert_exporter": "python",
   "pygments_lexer": "ipython3",
   "version": "3.11.0"
  }
 },
 "nbformat": 4,
 "nbformat_minor": 2
}
